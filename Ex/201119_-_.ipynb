{
 "cells": [
  {
   "cell_type": "markdown",
   "metadata": {},
   "source": [
    "# 봉우리\n",
    "\n",
    "지도 정보가 N X N 격자판에 주어집니다. 각 격자에는 그 지역의 높이가 쓰여있습니다. 각 격자 판의 숫자 중 자신의 상하좌우 숫자보다 큰 숫자는 봉우리 지역입니다. 봉우리 지역이 몇 개 있는 지 알아내는 프로그램을 작성하시오\n",
    "\n",
    "#### 격자의 가장자리는 0으로 초기화 되었다고 가정한다. 만약 N=5 이고, 격자판의 숫자가 다음과 같다면 봉우리의 개수는 10개입니다\n",
    "\n",
    "#### 입력 설명\n",
    "#### 첫 줄에 자연수 N이 주어진다(1<=N<=50)\n",
    "#### 두번 째 줄부터 N줄에 걸쳐 각 줄에 N개의 자연수가 주어진다. 각 자연수는 100을 넘지 않는다."
   ]
  },
  {
   "cell_type": "code",
   "execution_count": null,
   "metadata": {},
   "outputs": [],
   "source": []
  },
  {
   "cell_type": "code",
   "execution_count": 57,
   "metadata": {},
   "outputs": [
    {
     "name": "stdout",
     "output_type": "stream",
     "text": [
      "5\n",
      "[[5, 3, 7, 2, 3], [3, 7, 1, 6, 1], [7, 2, 5, 3, 4], [4, 3, 6, 4, 1], [8, 7, 3, 5, 2]]\n"
     ]
    }
   ],
   "source": [
    "with open(\"봉우리in3.txt\", \"r\") as f:\n",
    "    n = int(f.readline())\n",
    "    print(n)\n",
    "    lst = [list(map(int, f.readline().split())) for _ in range(n)]\n",
    "    print(lst)\n",
    "    "
   ]
  },
  {
   "cell_type": "code",
   "execution_count": 58,
   "metadata": {},
   "outputs": [
    {
     "data": {
      "text/plain": [
       "[[5, 3, 7, 2, 3],\n",
       " [3, 7, 1, 6, 1],\n",
       " [7, 2, 5, 3, 4],\n",
       " [4, 3, 6, 4, 1],\n",
       " [8, 7, 3, 5, 2]]"
      ]
     },
     "execution_count": 58,
     "metadata": {},
     "output_type": "execute_result"
    }
   ],
   "source": [
    "lst"
   ]
  },
  {
   "cell_type": "code",
   "execution_count": 59,
   "metadata": {},
   "outputs": [],
   "source": [
    "lst\n",
    "lst.insert(0, [0,0,0,0,0,0,0])\n",
    "lst[1].insert(0, 0)\n",
    "lst[1].insert(n+1, 0)\n",
    "lst[2].insert(0, 0)\n",
    "lst[2].insert(n+1, 0)\n",
    "lst[3].insert(0, 0)\n",
    "lst[3].insert(n+1, 0)\n",
    "lst[4].insert(0, 0)\n",
    "lst[4].insert(n+1, 0)\n",
    "lst[5].insert(0, 0)\n",
    "lst[5].insert(n+1, 0)\n",
    "lst.append([0, 0, 0, 0, 0, 0, 0])"
   ]
  },
  {
   "cell_type": "code",
   "execution_count": 60,
   "metadata": {},
   "outputs": [
    {
     "data": {
      "text/plain": [
       "[[0, 0, 0, 0, 0, 0, 0],\n",
       " [0, 5, 3, 7, 2, 3, 0],\n",
       " [0, 3, 7, 1, 6, 1, 0],\n",
       " [0, 7, 2, 5, 3, 4, 0],\n",
       " [0, 4, 3, 6, 4, 1, 0],\n",
       " [0, 8, 7, 3, 5, 2, 0],\n",
       " [0, 0, 0, 0, 0, 0, 0]]"
      ]
     },
     "execution_count": 60,
     "metadata": {},
     "output_type": "execute_result"
    }
   ],
   "source": [
    "lst\n"
   ]
  },
  {
   "cell_type": "code",
   "execution_count": null,
   "metadata": {},
   "outputs": [],
   "source": []
  },
  {
   "cell_type": "code",
   "execution_count": null,
   "metadata": {},
   "outputs": [],
   "source": []
  },
  {
   "cell_type": "code",
   "execution_count": 14,
   "metadata": {},
   "outputs": [],
   "source": [
    "x = [([0]*(5+2))]*(5+2)"
   ]
  },
  {
   "cell_type": "code",
   "execution_count": 15,
   "metadata": {},
   "outputs": [
    {
     "data": {
      "text/plain": [
       "[[0, 0, 0, 0, 0, 0, 0],\n",
       " [0, 0, 0, 0, 0, 0, 0],\n",
       " [0, 0, 0, 0, 0, 0, 0],\n",
       " [0, 0, 0, 0, 0, 0, 0],\n",
       " [0, 0, 0, 0, 0, 0, 0],\n",
       " [0, 0, 0, 0, 0, 0, 0],\n",
       " [0, 0, 0, 0, 0, 0, 0]]"
      ]
     },
     "execution_count": 15,
     "metadata": {},
     "output_type": "execute_result"
    }
   ],
   "source": [
    "x"
   ]
  },
  {
   "cell_type": "code",
   "execution_count": 64,
   "metadata": {},
   "outputs": [
    {
     "name": "stdout",
     "output_type": "stream",
     "text": [
      "봉우리 갯수는 11개 입니다. \n"
     ]
    }
   ],
   "source": [
    "# 선생님 버전 filter 활용하자\n",
    "f = open(\"봉우리in1.txt\", \"r\")\n",
    "n = int(f.readline())\n",
    "a = [list(map(int, f.readline().split())) for _ in range(n)]\n",
    "a.insert(0, [0]*n)\n",
    "a.append([0]*n)\n",
    "\n",
    "for xx in a:\n",
    "    xx.insert(0, 0)\n",
    "    xx.append(0)\n",
    "\n",
    "cnt = 0\n",
    "dx = [-1, 0, 1, 0]\n",
    "dy = [ 0, 1, 0, -1]\n",
    "for i in range(1, n+1):\n",
    "    for j in range(1, n+1):\n",
    "        if all(a[i][j] > a[i + dx[k]][j + dy[k]] for k in range(4)): # all() 함수\n",
    "            cnt += 1\n",
    "print(\"봉우리 갯수는 {}개 입니다. \".format(cnt))"
   ]
  },
  {
   "cell_type": "code",
   "execution_count": 65,
   "metadata": {},
   "outputs": [],
   "source": [
    "# zero_lst = [0, 0, 0, 0, 0, 0, 0]\n",
    "# a.insert(0, zero_lst)\n",
    "# a.append(zero_lst)"
   ]
  },
  {
   "cell_type": "code",
   "execution_count": 68,
   "metadata": {},
   "outputs": [
    {
     "name": "stdout",
     "output_type": "stream",
     "text": [
      "봉우리 갯수는 91개 입니다. \n"
     ]
    }
   ],
   "source": [
    "# 소애씨 버전\n",
    "f = open(\"봉우리in2.txt\", \"r\")\n",
    "n = int(f.readline())\n",
    "a = [list(map(int, f.readline().split())) for _ in range(n)]\n",
    "a.insert(0, [0]*n)\n",
    "a.append([0]*n)\n",
    "\n",
    "for xx in a:\n",
    "    xx.insert(0, 0)\n",
    "    xx.append(0)\n",
    "\n",
    "cnt = 0\n",
    "\n",
    "for i in range(1, n+1):\n",
    "    for j in range(1, n+1):\n",
    "        #                 위                    아래                      왼쪽                    오른쪽\n",
    "        if (a[i][j] > a[i-1][j] and a[i][j] > a[i+1][j] and a[i][j] > a[i][j-1] and a[i][j] > a[i][j+1]):\n",
    "            cnt += 1\n",
    "            \n",
    "print(\"봉우리 갯수는 {}개 입니다. \".format(cnt))"
   ]
  },
  {
   "cell_type": "markdown",
   "metadata": {},
   "source": [
    "### 이차원 배열에서 원하는 column 기준으로 정렬하기\n",
    "### 많이 쓰임\n",
    "### "
   ]
  },
  {
   "cell_type": "code",
   "execution_count": 75,
   "metadata": {},
   "outputs": [],
   "source": [
    "timetable = [(2, 3), (6, 9), (1, 2), (7, 9), (10, 12), (4, 6), (5, 9), (2, 11), (3, 17)]"
   ]
  },
  {
   "cell_type": "code",
   "execution_count": 79,
   "metadata": {},
   "outputs": [],
   "source": [
    "timetable.sort(key=lambda x: (x[1], x[0]))"
   ]
  },
  {
   "cell_type": "code",
   "execution_count": 81,
   "metadata": {},
   "outputs": [
    {
     "data": {
      "text/plain": [
       "[(1, 2), (2, 3), (4, 6), (5, 9), (6, 9), (7, 9), (2, 11), (10, 12), (3, 17)]"
      ]
     },
     "execution_count": 81,
     "metadata": {},
     "output_type": "execute_result"
    }
   ],
   "source": [
    "timetable"
   ]
  },
  {
   "cell_type": "code",
   "execution_count": 78,
   "metadata": {},
   "outputs": [
    {
     "name": "stdout",
     "output_type": "stream",
     "text": [
      "0 (2, 3)\n",
      "1 (6, 9)\n",
      "2 (1, 2)\n",
      "3 (7, 9)\n",
      "4 (10, 12)\n",
      "5 (4, 6)\n",
      "6 (5, 9)\n",
      "7 (2, 11)\n",
      "8 (3, 17)\n"
     ]
    }
   ],
   "source": [
    "min_val = 0\n",
    "for i, num in enumerate(timetable):\n",
    "    print(i, num)\n",
    "    if num[1] > min_val:\n",
    "        min_val = num[1]\n",
    "sort()\n",
    "    \n",
    "    "
   ]
  },
  {
   "cell_type": "code",
   "execution_count": null,
   "metadata": {},
   "outputs": [],
   "source": []
  },
  {
   "cell_type": "code",
   "execution_count": null,
   "metadata": {},
   "outputs": [],
   "source": []
  },
  {
   "cell_type": "code",
   "execution_count": null,
   "metadata": {},
   "outputs": [],
   "source": []
  },
  {
   "cell_type": "markdown",
   "metadata": {},
   "source": [
    "# 회의실 배정(그리드)\n",
    "### 한 개의 회의실이 있는데 이를 사용하고자 하는 n개의 회의들에 대하여 회의실 사용표를 만들려고 한다. \n",
    "### 각 회의에 대해 시작시간과 끝나는 시간\n",
    "\n",
    "\n",
    "\n",
    "#### 입력 예제 1\n",
    "## 5\n",
    "- 1 4\n",
    "- 2 3\n",
    "- 3 5\n",
    "- 4 6\n",
    "- 5 7\n",
    "\n",
    "### 출력 예제 1\n",
    "## 3\n",
    "\n",
    "##### 예제 설명\n",
    "###### (2, 3), (3, 5), (5, 7)이 회의실을 이용할 수 있다.\n"
   ]
  },
  {
   "cell_type": "code",
   "execution_count": null,
   "metadata": {},
   "outputs": [],
   "source": []
  }
 ],
 "metadata": {
  "kernelspec": {
   "display_name": "Python 3",
   "language": "python",
   "name": "python3"
  },
  "language_info": {
   "codemirror_mode": {
    "name": "ipython",
    "version": 3
   },
   "file_extension": ".py",
   "mimetype": "text/x-python",
   "name": "python",
   "nbconvert_exporter": "python",
   "pygments_lexer": "ipython3",
   "version": "3.8.3"
  }
 },
 "nbformat": 4,
 "nbformat_minor": 4
}
